{
 "cells": [
  {
   "cell_type": "markdown",
   "metadata": {},
   "source": [
    "### fMRI Dimensionality Reduction"
   ]
  },
  {
   "cell_type": "markdown",
   "metadata": {},
   "source": [
    "### Notebook setup"
   ]
  },
  {
   "cell_type": "code",
   "execution_count": 11,
   "metadata": {},
   "outputs": [],
   "source": [
    "# NiLearn\n",
    "from nilearn.datasets import fetch_development_fmri\n",
    "import nilearn.plotting as plotting\n",
    "from nilearn import image\n",
    "\n",
    "# Numpy to deal with arrays\n",
    "import numpy as np\n",
    "import pandas as pd\n",
    "\n",
    "# Plotting\n",
    "import matplotlib.pyplot as plt\n",
    "import seaborn as sns\n",
    "sns.set_style(\"whitegrid\")\n",
    "sns.set_palette(\"RdBu\")\n",
    "\n",
    "# Built in python libraries\n",
    "import random\n",
    "\n",
    "# Set random seed for reproducibility\n",
    "SEED = 11\n",
    "random.seed(11)\n",
    "\n",
    "# Ignore warnings\n",
    "import warnings\n",
    "warnings.filterwarnings(\"ignore\")"
   ]
  },
  {
   "cell_type": "markdown",
   "metadata": {},
   "source": [
    "### Load the data"
   ]
  },
  {
   "cell_type": "markdown",
   "metadata": {},
   "source": [
    "The `data` variable is a `Bunch` (dict. like object) with the following attributes:\n",
    "\n",
    "- `func (list of str)`: Paths to downsampled functional MRI data (4D) for each subject.\n",
    "\n",
    "- `confounds (list of str)`: Paths to confounds related to each subject. (tsv files)\n",
    "\n",
    "- `phenotypic (numpy.ndarray)`: Contains each subject age, age group, child or adult, gender, handedness."
   ]
  },
  {
   "cell_type": "code",
   "execution_count": 5,
   "metadata": {},
   "outputs": [
    {
     "name": "stdout",
     "output_type": "stream",
     "text": [
      "First subject functional nifti images (4D) are at: ./data/development_fmri/development_fmri/sub-pixar123_task-pixar_space-MNI152NLin2009cAsym_desc-preproc_bold.nii.gz\n"
     ]
    }
   ],
   "source": [
    "# Load the data using the nilearn's fetcher\n",
    "data = fetch_development_fmri(n_subjects=25, data_dir='./data', resume=True, verbose=1)\n",
    "\n",
    "# Check the path to the data\n",
    "print(f\"First subject functional nifti images (4D) are at: {data.func[0]}\")"
   ]
  },
  {
   "cell_type": "markdown",
   "metadata": {},
   "source": [
    "### Check the phenotypic data\n",
    "\n",
    "Let's load the phenotypic data into a pandas dataframe to check the data."
   ]
  },
  {
   "cell_type": "code",
   "execution_count": 35,
   "metadata": {},
   "outputs": [
    {
     "data": {
      "text/html": [
       "<div>\n",
       "<style scoped>\n",
       "    .dataframe tbody tr th:only-of-type {\n",
       "        vertical-align: middle;\n",
       "    }\n",
       "\n",
       "    .dataframe tbody tr th {\n",
       "        vertical-align: top;\n",
       "    }\n",
       "\n",
       "    .dataframe thead th {\n",
       "        text-align: right;\n",
       "    }\n",
       "</style>\n",
       "<table border=\"1\" class=\"dataframe\">\n",
       "  <thead>\n",
       "    <tr style=\"text-align: right;\">\n",
       "      <th></th>\n",
       "      <th>participant_id</th>\n",
       "      <th>Age</th>\n",
       "      <th>AgeGroup</th>\n",
       "      <th>Child_Adult</th>\n",
       "      <th>Gender</th>\n",
       "      <th>Handedness</th>\n",
       "    </tr>\n",
       "  </thead>\n",
       "  <tbody>\n",
       "    <tr>\n",
       "      <th>0</th>\n",
       "      <td>sub-pixar123</td>\n",
       "      <td>27</td>\n",
       "      <td>Adult</td>\n",
       "      <td>adult</td>\n",
       "      <td>F</td>\n",
       "      <td>R</td>\n",
       "    </tr>\n",
       "    <tr>\n",
       "      <th>1</th>\n",
       "      <td>sub-pixar124</td>\n",
       "      <td>33</td>\n",
       "      <td>Adult</td>\n",
       "      <td>adult</td>\n",
       "      <td>M</td>\n",
       "      <td>R</td>\n",
       "    </tr>\n",
       "    <tr>\n",
       "      <th>2</th>\n",
       "      <td>sub-pixar125</td>\n",
       "      <td>31</td>\n",
       "      <td>Adult</td>\n",
       "      <td>adult</td>\n",
       "      <td>M</td>\n",
       "      <td>R</td>\n",
       "    </tr>\n",
       "    <tr>\n",
       "      <th>3</th>\n",
       "      <td>sub-pixar126</td>\n",
       "      <td>19</td>\n",
       "      <td>Adult</td>\n",
       "      <td>adult</td>\n",
       "      <td>F</td>\n",
       "      <td>R</td>\n",
       "    </tr>\n",
       "    <tr>\n",
       "      <th>4</th>\n",
       "      <td>sub-pixar127</td>\n",
       "      <td>23</td>\n",
       "      <td>Adult</td>\n",
       "      <td>adult</td>\n",
       "      <td>F</td>\n",
       "      <td>R</td>\n",
       "    </tr>\n",
       "  </tbody>\n",
       "</table>\n",
       "</div>"
      ],
      "text/plain": [
       "  participant_id  Age AgeGroup Child_Adult Gender Handedness\n",
       "0   sub-pixar123   27    Adult       adult      F          R\n",
       "1   sub-pixar124   33    Adult       adult      M          R\n",
       "2   sub-pixar125   31    Adult       adult      M          R\n",
       "3   sub-pixar126   19    Adult       adult      F          R\n",
       "4   sub-pixar127   23    Adult       adult      F          R"
      ]
     },
     "execution_count": 35,
     "metadata": {},
     "output_type": "execute_result"
    }
   ],
   "source": [
    "# Convert the phenotypic data into a pandas dataframe ensuring the correct data types\n",
    "data_types = {\n",
    "    'participant_id': str,\n",
    "    'Age': int,\n",
    "    'AgeGroup': str,\n",
    "    'Child_Adult': str,\n",
    "    'Gender': str,\n",
    "    'Handedness': str,\n",
    "}\n",
    "phenotypic = pd.DataFrame(data.phenotypic, columns=data_types.keys()).astype(data_types)\n",
    "\n",
    "# Check the phenotypic data\n",
    "phenotypic.head()"
   ]
  },
  {
   "cell_type": "markdown",
   "metadata": {},
   "source": [
    "Let's plot the distributions of the individual variables."
   ]
  },
  {
   "cell_type": "code",
   "execution_count": 40,
   "metadata": {},
   "outputs": [
    {
     "data": {
      "image/png": "[encoded data removed]",
      "text/plain": [
       "<Figure size 1000x700 with 6 Axes>"
      ]
     },
     "metadata": {},
     "output_type": "display_data"
    }
   ],
   "source": [
    "# The figure will have 2 rows and 3 columns\n",
    "fig, axs = plt.subplots(2, 3, figsize=(10, 7))\n",
    "\n",
    "# Plot the distribution of the age\n",
    "sns.histplot(data=phenotypic, x=\"Age\", ax=axs[0, 0], kde=False);\n",
    "\n",
    "# Plot the categorical vars\n",
    "sns.countplot(data=phenotypic, x='AgeGroup', ax=axs[0, 1])\n",
    "sns.countplot(data=phenotypic, x='Child_Adult', ax=axs[0, 2])\n",
    "sns.countplot(data=phenotypic, x='Gender', ax=axs[1, 0])\n",
    "sns.countplot(data=phenotypic, x='Handedness', ax=axs[1, 1])\n",
    "\n",
    "# Turn of the last axis\n",
    "axs[1, 2].axis('off');\n",
    "\n",
    "# Set the title\n",
    "fig.suptitle(\"Phenotypic data distribution\", fontsize=16);\n",
    "\n",
    "# Save the figure\n",
    "fig.savefig('figures/phenotypic_data_distribution.png', dpi=300)"
   ]
  },
  {
   "cell_type": "markdown",
   "metadata": {},
   "source": [
    "### Visualize the subject\n",
    "\n",
    "Let's dive into visualization of random subject."
   ]
  },
  {
   "cell_type": "code",
   "execution_count": 41,
   "metadata": {},
   "outputs": [
    {
     "ename": "DimensionError",
     "evalue": "Input data has incompatible dimensionality: Expected dimension is 3D and you provided a 4D image. See https://nilearn.github.io/stable/manipulating_images/input_output.html.",
     "output_type": "error",
     "traceback": [
      "\u001b[0;31m---------------------------------------------------------------------------\u001b[0m",
      "\u001b[0;31mDimensionError\u001b[0m                            Traceback (most recent call last)",
      "\u001b[1;32m/Users/ludekcizinsky/Dev/personal/fMRI-dimensionality-reduction/run.ipynb Cell 12\u001b[0m line \u001b[0;36m5\n\u001b[1;32m      <a href='vscode-notebook-cell:/Users/ludekcizinsky/Dev/personal/fMRI-dimensionality-reduction/run.ipynb#X34sZmlsZQ%3D%3D?line=1'>2</a>\u001b[0m \u001b[39mfrom\u001b[39;00m \u001b[39mnilearn\u001b[39;00m\u001b[39m.\u001b[39;00m\u001b[39mplotting\u001b[39;00m \u001b[39mimport\u001b[39;00m plot_epi, plot_anat, plot_img, plot_stat_map\n\u001b[1;32m      <a href='vscode-notebook-cell:/Users/ludekcizinsky/Dev/personal/fMRI-dimensionality-reduction/run.ipynb#X34sZmlsZQ%3D%3D?line=3'>4</a>\u001b[0m \u001b[39m# Plot the mean functional image\u001b[39;00m\n\u001b[0;32m----> <a href='vscode-notebook-cell:/Users/ludekcizinsky/Dev/personal/fMRI-dimensionality-reduction/run.ipynb#X34sZmlsZQ%3D%3D?line=4'>5</a>\u001b[0m plot_epi(data\u001b[39m.\u001b[39;49mfunc[\u001b[39m0\u001b[39;49m], title\u001b[39m=\u001b[39;49m\u001b[39m\"\u001b[39;49m\u001b[39mMean functional image\u001b[39;49m\u001b[39m\"\u001b[39;49m);\n\u001b[1;32m      <a href='vscode-notebook-cell:/Users/ludekcizinsky/Dev/personal/fMRI-dimensionality-reduction/run.ipynb#X34sZmlsZQ%3D%3D?line=6'>7</a>\u001b[0m \u001b[39m# Plot the mean anatomical image\u001b[39;00m\n\u001b[1;32m      <a href='vscode-notebook-cell:/Users/ludekcizinsky/Dev/personal/fMRI-dimensionality-reduction/run.ipynb#X34sZmlsZQ%3D%3D?line=7'>8</a>\u001b[0m plot_anat(data\u001b[39m.\u001b[39manat[\u001b[39m0\u001b[39m], title\u001b[39m=\u001b[39m\u001b[39m\"\u001b[39m\u001b[39mMean anatomical image\u001b[39m\u001b[39m\"\u001b[39m);\n",
      "File \u001b[0;32m~/miniconda3/envs/nssp_p2gL/lib/python3.10/site-packages/nilearn/plotting/img_plotting.py:557\u001b[0m, in \u001b[0;36mplot_epi\u001b[0;34m(epi_img, cut_coords, output_file, display_mode, figure, axes, title, annotate, draw_cross, black_bg, colorbar, cbar_tick_format, cmap, vmin, vmax, radiological, **kwargs)\u001b[0m\n\u001b[1;32m    514\u001b[0m \u001b[39m@fill_doc\u001b[39m\n\u001b[1;32m    515\u001b[0m \u001b[39mdef\u001b[39;00m \u001b[39mplot_epi\u001b[39m(epi_img\u001b[39m=\u001b[39m\u001b[39mNone\u001b[39;00m, cut_coords\u001b[39m=\u001b[39m\u001b[39mNone\u001b[39;00m, output_file\u001b[39m=\u001b[39m\u001b[39mNone\u001b[39;00m,\n\u001b[1;32m    516\u001b[0m              display_mode\u001b[39m=\u001b[39m\u001b[39m'\u001b[39m\u001b[39mortho\u001b[39m\u001b[39m'\u001b[39m, figure\u001b[39m=\u001b[39m\u001b[39mNone\u001b[39;00m, axes\u001b[39m=\u001b[39m\u001b[39mNone\u001b[39;00m, title\u001b[39m=\u001b[39m\u001b[39mNone\u001b[39;00m,\n\u001b[0;32m   (...)\u001b[0m\n\u001b[1;32m    519\u001b[0m              cmap\u001b[39m=\u001b[39mplt\u001b[39m.\u001b[39mcm\u001b[39m.\u001b[39mnipy_spectral, vmin\u001b[39m=\u001b[39m\u001b[39mNone\u001b[39;00m, vmax\u001b[39m=\u001b[39m\u001b[39mNone\u001b[39;00m,\n\u001b[1;32m    520\u001b[0m              radiological\u001b[39m=\u001b[39m\u001b[39mFalse\u001b[39;00m, \u001b[39m*\u001b[39m\u001b[39m*\u001b[39mkwargs):\n\u001b[1;32m    521\u001b[0m \u001b[39m    \u001b[39m\u001b[39m\"\"\"Plot cuts of an EPI image.\u001b[39;00m\n\u001b[1;32m    522\u001b[0m \n\u001b[1;32m    523\u001b[0m \u001b[39m    By default 3 cuts: Frontal, Axial, and Lateral.\u001b[39;00m\n\u001b[0;32m   (...)\u001b[0m\n\u001b[1;32m    555\u001b[0m \n\u001b[1;32m    556\u001b[0m \u001b[39m    \"\"\"\u001b[39;00m\n\u001b[0;32m--> 557\u001b[0m     display \u001b[39m=\u001b[39m plot_img(epi_img, cut_coords\u001b[39m=\u001b[39;49mcut_coords,\n\u001b[1;32m    558\u001b[0m                        output_file\u001b[39m=\u001b[39;49moutput_file, display_mode\u001b[39m=\u001b[39;49mdisplay_mode,\n\u001b[1;32m    559\u001b[0m                        figure\u001b[39m=\u001b[39;49mfigure, axes\u001b[39m=\u001b[39;49maxes, title\u001b[39m=\u001b[39;49mtitle,\n\u001b[1;32m    560\u001b[0m                        threshold\u001b[39m=\u001b[39;49m\u001b[39mNone\u001b[39;49;00m, annotate\u001b[39m=\u001b[39;49mannotate,\n\u001b[1;32m    561\u001b[0m                        draw_cross\u001b[39m=\u001b[39;49mdraw_cross, black_bg\u001b[39m=\u001b[39;49mblack_bg,\n\u001b[1;32m    562\u001b[0m                        colorbar\u001b[39m=\u001b[39;49mcolorbar, cbar_tick_format\u001b[39m=\u001b[39;49mcbar_tick_format,\n\u001b[1;32m    563\u001b[0m                        cmap\u001b[39m=\u001b[39;49mcmap, vmin\u001b[39m=\u001b[39;49mvmin, vmax\u001b[39m=\u001b[39;49mvmax,\n\u001b[1;32m    564\u001b[0m                        radiological\u001b[39m=\u001b[39;49mradiological, \u001b[39m*\u001b[39;49m\u001b[39m*\u001b[39;49mkwargs)\n\u001b[1;32m    565\u001b[0m     \u001b[39mreturn\u001b[39;00m display\n",
      "File \u001b[0;32m~/miniconda3/envs/nssp_p2gL/lib/python3.10/site-packages/nilearn/plotting/img_plotting.py:295\u001b[0m, in \u001b[0;36mplot_img\u001b[0;34m(img, cut_coords, output_file, display_mode, figure, axes, title, threshold, annotate, draw_cross, black_bg, colorbar, cbar_tick_format, resampling_interpolation, bg_img, vmin, vmax, radiological, **kwargs)\u001b[0m\n\u001b[1;32m    248\u001b[0m \u001b[39m@fill_doc\u001b[39m\n\u001b[1;32m    249\u001b[0m \u001b[39mdef\u001b[39;00m \u001b[39mplot_img\u001b[39m(img, cut_coords\u001b[39m=\u001b[39m\u001b[39mNone\u001b[39;00m, output_file\u001b[39m=\u001b[39m\u001b[39mNone\u001b[39;00m, display_mode\u001b[39m=\u001b[39m\u001b[39m'\u001b[39m\u001b[39mortho\u001b[39m\u001b[39m'\u001b[39m,\n\u001b[1;32m    250\u001b[0m              figure\u001b[39m=\u001b[39m\u001b[39mNone\u001b[39;00m, axes\u001b[39m=\u001b[39m\u001b[39mNone\u001b[39;00m, title\u001b[39m=\u001b[39m\u001b[39mNone\u001b[39;00m, threshold\u001b[39m=\u001b[39m\u001b[39mNone\u001b[39;00m,\n\u001b[0;32m   (...)\u001b[0m\n\u001b[1;32m    253\u001b[0m              resampling_interpolation\u001b[39m=\u001b[39m\u001b[39m'\u001b[39m\u001b[39mcontinuous\u001b[39m\u001b[39m'\u001b[39m,\n\u001b[1;32m    254\u001b[0m              bg_img\u001b[39m=\u001b[39m\u001b[39mNone\u001b[39;00m, vmin\u001b[39m=\u001b[39m\u001b[39mNone\u001b[39;00m, vmax\u001b[39m=\u001b[39m\u001b[39mNone\u001b[39;00m, radiological\u001b[39m=\u001b[39m\u001b[39mFalse\u001b[39;00m, \u001b[39m*\u001b[39m\u001b[39m*\u001b[39mkwargs):\n\u001b[1;32m    255\u001b[0m \u001b[39m    \u001b[39m\u001b[39m\"\"\"Plot cuts of a given image.\u001b[39;00m\n\u001b[1;32m    256\u001b[0m \n\u001b[1;32m    257\u001b[0m \u001b[39m    By default Frontal, Axial, and Lateral.\u001b[39;00m\n\u001b[0;32m   (...)\u001b[0m\n\u001b[1;32m    293\u001b[0m \n\u001b[1;32m    294\u001b[0m \u001b[39m    \"\"\"\u001b[39;00m\n\u001b[0;32m--> 295\u001b[0m     display \u001b[39m=\u001b[39m _plot_img_with_bg(\n\u001b[1;32m    296\u001b[0m         img, cut_coords\u001b[39m=\u001b[39;49mcut_coords,\n\u001b[1;32m    297\u001b[0m         output_file\u001b[39m=\u001b[39;49moutput_file, display_mode\u001b[39m=\u001b[39;49mdisplay_mode,\n\u001b[1;32m    298\u001b[0m         figure\u001b[39m=\u001b[39;49mfigure, axes\u001b[39m=\u001b[39;49maxes, title\u001b[39m=\u001b[39;49mtitle,\n\u001b[1;32m    299\u001b[0m         threshold\u001b[39m=\u001b[39;49mthreshold, annotate\u001b[39m=\u001b[39;49mannotate,\n\u001b[1;32m    300\u001b[0m         draw_cross\u001b[39m=\u001b[39;49mdraw_cross,\n\u001b[1;32m    301\u001b[0m         resampling_interpolation\u001b[39m=\u001b[39;49mresampling_interpolation,\n\u001b[1;32m    302\u001b[0m         black_bg\u001b[39m=\u001b[39;49mblack_bg, colorbar\u001b[39m=\u001b[39;49mcolorbar,\n\u001b[1;32m    303\u001b[0m         cbar_tick_format\u001b[39m=\u001b[39;49mcbar_tick_format,\n\u001b[1;32m    304\u001b[0m         bg_img\u001b[39m=\u001b[39;49mbg_img, vmin\u001b[39m=\u001b[39;49mvmin, vmax\u001b[39m=\u001b[39;49mvmax, radiological\u001b[39m=\u001b[39;49mradiological,\n\u001b[1;32m    305\u001b[0m         \u001b[39m*\u001b[39;49m\u001b[39m*\u001b[39;49mkwargs)\n\u001b[1;32m    307\u001b[0m     \u001b[39mreturn\u001b[39;00m display\n",
      "File \u001b[0;32m~/miniconda3/envs/nssp_p2gL/lib/python3.10/site-packages/nilearn/plotting/img_plotting.py:196\u001b[0m, in \u001b[0;36m_plot_img_with_bg\u001b[0;34m(img, bg_img, cut_coords, output_file, display_mode, colorbar, figure, axes, title, threshold, annotate, draw_cross, black_bg, vmin, vmax, bg_vmin, bg_vmax, interpolation, display_factory, cbar_vmin, cbar_vmax, cbar_tick_format, brain_color, decimals, radiological, **kwargs)\u001b[0m\n\u001b[1;32m    189\u001b[0m     \u001b[39mraise\u001b[39;00m \u001b[39mValueError\u001b[39;00m(\n\u001b[1;32m    190\u001b[0m         \u001b[39mf\u001b[39m\u001b[39m\"\u001b[39m\u001b[39mThe input given for display_mode=\u001b[39m\u001b[39m'\u001b[39m\u001b[39m{\u001b[39;00mdisplay_mode\u001b[39m}\u001b[39;00m\u001b[39m'\u001b[39m\u001b[39m \u001b[39m\u001b[39m\"\u001b[39m\n\u001b[1;32m    191\u001b[0m         \u001b[39m\"\u001b[39m\u001b[39mneeds to be a list of 3d world coordinates in (x, y, z). \u001b[39m\u001b[39m\"\u001b[39m\n\u001b[1;32m    192\u001b[0m         \u001b[39m\"\u001b[39m\u001b[39mYou provided single cut, \u001b[39m\u001b[39m\"\u001b[39m\n\u001b[1;32m    193\u001b[0m         \u001b[39mf\u001b[39m\u001b[39m\"\u001b[39m\u001b[39mcut_coords=\u001b[39m\u001b[39m{\u001b[39;00mcut_coords\u001b[39m}\u001b[39;00m\u001b[39m\"\u001b[39m)\n\u001b[1;32m    195\u001b[0m \u001b[39mif\u001b[39;00m img \u001b[39mis\u001b[39;00m \u001b[39mnot\u001b[39;00m \u001b[39mFalse\u001b[39;00m \u001b[39mand\u001b[39;00m img \u001b[39mis\u001b[39;00m \u001b[39mnot\u001b[39;00m \u001b[39mNone\u001b[39;00m:\n\u001b[0;32m--> 196\u001b[0m     img \u001b[39m=\u001b[39m _utils\u001b[39m.\u001b[39;49mcheck_niimg_3d(img, dtype\u001b[39m=\u001b[39;49m\u001b[39m'\u001b[39;49m\u001b[39mauto\u001b[39;49m\u001b[39m'\u001b[39;49m)\n\u001b[1;32m    197\u001b[0m     data \u001b[39m=\u001b[39m _safe_get_data(img, ensure_finite\u001b[39m=\u001b[39m\u001b[39mTrue\u001b[39;00m)\n\u001b[1;32m    198\u001b[0m     affine \u001b[39m=\u001b[39m img\u001b[39m.\u001b[39maffine\n",
      "File \u001b[0;32m~/miniconda3/envs/nssp_p2gL/lib/python3.10/site-packages/nilearn/_utils/niimg_conversions.py:374\u001b[0m, in \u001b[0;36mcheck_niimg_3d\u001b[0;34m(niimg, dtype)\u001b[0m\n\u001b[1;32m    340\u001b[0m \u001b[39mdef\u001b[39;00m \u001b[39mcheck_niimg_3d\u001b[39m(niimg, dtype\u001b[39m=\u001b[39m\u001b[39mNone\u001b[39;00m):\n\u001b[1;32m    341\u001b[0m \u001b[39m    \u001b[39m\u001b[39m\"\"\"Check that niimg is a proper 3D niimg-like object and load it.\u001b[39;00m\n\u001b[1;32m    342\u001b[0m \n\u001b[1;32m    343\u001b[0m \u001b[39m    Parameters\u001b[39;00m\n\u001b[0;32m   (...)\u001b[0m\n\u001b[1;32m    372\u001b[0m \n\u001b[1;32m    373\u001b[0m \u001b[39m    \"\"\"\u001b[39;00m\n\u001b[0;32m--> 374\u001b[0m     \u001b[39mreturn\u001b[39;00m check_niimg(niimg, ensure_ndim\u001b[39m=\u001b[39;49m\u001b[39m3\u001b[39;49m, dtype\u001b[39m=\u001b[39;49mdtype)\n",
      "File \u001b[0;32m~/miniconda3/envs/nssp_p2gL/lib/python3.10/site-packages/nilearn/_utils/niimg_conversions.py:332\u001b[0m, in \u001b[0;36mcheck_niimg\u001b[0;34m(niimg, ensure_ndim, atleast_4d, dtype, return_iterator, wildcards)\u001b[0m\n\u001b[1;32m    329\u001b[0m     niimg \u001b[39m=\u001b[39m new_img_like(niimg, data, niimg\u001b[39m.\u001b[39maffine)\n\u001b[1;32m    331\u001b[0m \u001b[39mif\u001b[39;00m ensure_ndim \u001b[39mis\u001b[39;00m \u001b[39mnot\u001b[39;00m \u001b[39mNone\u001b[39;00m \u001b[39mand\u001b[39;00m \u001b[39mlen\u001b[39m(niimg\u001b[39m.\u001b[39mshape) \u001b[39m!=\u001b[39m ensure_ndim:\n\u001b[0;32m--> 332\u001b[0m     \u001b[39mraise\u001b[39;00m DimensionError(\u001b[39mlen\u001b[39m(niimg\u001b[39m.\u001b[39mshape), ensure_ndim)\n\u001b[1;32m    334\u001b[0m \u001b[39mif\u001b[39;00m return_iterator:\n\u001b[1;32m    335\u001b[0m     \u001b[39mreturn\u001b[39;00m (_index_img(niimg, i) \u001b[39mfor\u001b[39;00m i \u001b[39min\u001b[39;00m \u001b[39mrange\u001b[39m(niimg\u001b[39m.\u001b[39mshape[\u001b[39m3\u001b[39m]))\n",
      "\u001b[0;31mDimensionError\u001b[0m: Input data has incompatible dimensionality: Expected dimension is 3D and you provided a 4D image. See https://nilearn.github.io/stable/manipulating_images/input_output.html."
     ]
    }
   ],
   "source": [
    "# Generate random index from 0 to 25\n",
    "i = random.randint(0, 25)\n",
    "\n",
    "# Load the functional image\n",
    "func_img = image.load_img(data.func[i])\n",
    "\n",
    "# Plot the functional image\n",
    "display = plotting.plot_img(\n",
    "    func_img, title=\"fMRI Scan\",\n",
    "    display_mode='z',  # Change to 'x', 'y', 'ortho' for different views\n",
    "    cut_coords=(0, 0, 0),  # Set the coordinates for the cut plane\n",
    "    cmap='viridis',  # Change the colormap\n",
    "    threshold=None,  # Set a threshold for overlaying statistical maps if available\n",
    "    colorbar=True,  # Show colorbar\n",
    ")\n"
   ]
  },
  {
   "cell_type": "code",
   "execution_count": null,
   "metadata": {},
   "outputs": [],
   "source": []
  }
 ],
 "metadata": {
  "kernelspec": {
   "display_name": "nssp_p2gL",
   "language": "python",
   "name": "python3"
  },
  "language_info": {
   "codemirror_mode": {
    "name": "ipython",
    "version": 3
   },
   "file_extension": ".py",
   "mimetype": "text/x-python",
   "name": "python",
   "nbconvert_exporter": "python",
   "pygments_lexer": "ipython3",
   "version": "3.10.13"
  }
 },
 "nbformat": 4,
 "nbformat_minor": 2
}
