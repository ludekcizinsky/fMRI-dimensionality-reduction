{
 "cells": [
  {
   "cell_type": "code",
   "execution_count": null,
   "id": "cda425e0-3229-44d2-b0b9-e47b0503c35d",
   "metadata": {},
   "outputs": [],
   "source": [
    "* Plot singular values explaining the covariance between brain contrast maps and behavioral measures\n",
    "\n",
    "plt.figure(dpi=90)\n",
    "plt.bar([1,2], D,color='royalblue')\n",
    "plt.title(\"The singular values explaining the covariance between brain contrast map and behavioral measures\")\n",
    "\n",
    "# Print the Sigular values\n",
    "print(\"\\n The Singular values: \", D)\n",
    "\n",
    "\n",
    "#* Plot the behavioral components (matrix U)\n",
    "\n",
    "# Plot Behavioral Component U1\n",
    "plt.bar([1,2], U[0,:], color=['lightcoral','royalblue'])\n",
    "plt.title(\"Behavioral component U1\")\n",
    "plt.show()\n",
    "\n",
    "# Plot Behavioral Component U2\n",
    "# YOUR CODE HERE\n",
    "\n",
    "\n",
    "\n",
    "#* Information needed for plotting\n",
    "#* Read T1-weighted template\n",
    "T1w_img = nib.load('PLS_data/T1w_restore_brain.nii')\n",
    "\n",
    "# Get affine transform\n",
    "affine = nib.load(data_dir_template.format(1)).affine\n",
    "\n",
    "\n",
    "#* Plot the spatial components (matrix V)\n",
    "\n",
    "#Component V1\n",
    "print('Spatial Component V1')\n",
    "V1_img = nib.Nifti1Image(np.reshape(V[0,:],(x1, y1, z1)), affine)\n",
    "\n",
    "#* Plot different views\n",
    "desired_views = ['z', 'ortho']\n",
    "for view_ in desired_views:\n",
    "    plot_stat_map(V1_img, display_mode=view_, title='Spatial Component V1',\n",
    "                    colorbar=True, black_bg=True, bg_img=T1w_img, threshold=2*np.std(V[0,:]),)\n",
    "                    #output_file=save_results + \"pls_spatial_V1_{}.png\".format(view_)) # uncomment to save plot\n",
    "\n",
    "#Component V2\n",
    "print('Spatial Component V2')  \n",
    "# YOUR CODE HERE: follow the same structure as we did with Component V1\n",
    "#V2_img = ?\n",
    "\n",
    "#* Plot different view\n"
   ]
  }
 ],
 "metadata": {
  "kernelspec": {
   "display_name": "Python3",
   "language": "python",
   "name": "python3"
  },
  "language_info": {
   "codemirror_mode": {
    "name": "ipython",
    "version": 3
   },
   "file_extension": ".py",
   "mimetype": "text/x-python",
   "name": "python",
   "nbconvert_exporter": "python",
   "pygments_lexer": "ipython3",
   "version": "3.11.5"
  }
 },
 "nbformat": 4,
 "nbformat_minor": 5
}
